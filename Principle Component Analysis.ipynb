{
 "cells": [
  {
   "cell_type": "code",
   "execution_count": 52,
   "id": "fb0467c4",
   "metadata": {},
   "outputs": [],
   "source": [
    "import pandas as pd\n",
    "import numpy as np\n",
    "from pydataset import data"
   ]
  },
  {
   "cell_type": "code",
   "execution_count": 53,
   "id": "ad6b97cf",
   "metadata": {},
   "outputs": [
    {
     "data": {
      "text/html": [
       "<div>\n",
       "<style scoped>\n",
       "    .dataframe tbody tr th:only-of-type {\n",
       "        vertical-align: middle;\n",
       "    }\n",
       "\n",
       "    .dataframe tbody tr th {\n",
       "        vertical-align: top;\n",
       "    }\n",
       "\n",
       "    .dataframe thead th {\n",
       "        text-align: right;\n",
       "    }\n",
       "</style>\n",
       "<table border=\"1\" class=\"dataframe\">\n",
       "  <thead>\n",
       "    <tr style=\"text-align: right;\">\n",
       "      <th></th>\n",
       "      <th>Sepal.Length</th>\n",
       "      <th>Sepal.Width</th>\n",
       "      <th>Petal.Length</th>\n",
       "      <th>Petal.Width</th>\n",
       "      <th>Species</th>\n",
       "    </tr>\n",
       "  </thead>\n",
       "  <tbody>\n",
       "    <tr>\n",
       "      <th>1</th>\n",
       "      <td>5.1</td>\n",
       "      <td>3.5</td>\n",
       "      <td>1.4</td>\n",
       "      <td>0.2</td>\n",
       "      <td>setosa</td>\n",
       "    </tr>\n",
       "    <tr>\n",
       "      <th>2</th>\n",
       "      <td>4.9</td>\n",
       "      <td>3.0</td>\n",
       "      <td>1.4</td>\n",
       "      <td>0.2</td>\n",
       "      <td>setosa</td>\n",
       "    </tr>\n",
       "    <tr>\n",
       "      <th>3</th>\n",
       "      <td>4.7</td>\n",
       "      <td>3.2</td>\n",
       "      <td>1.3</td>\n",
       "      <td>0.2</td>\n",
       "      <td>setosa</td>\n",
       "    </tr>\n",
       "    <tr>\n",
       "      <th>4</th>\n",
       "      <td>4.6</td>\n",
       "      <td>3.1</td>\n",
       "      <td>1.5</td>\n",
       "      <td>0.2</td>\n",
       "      <td>setosa</td>\n",
       "    </tr>\n",
       "    <tr>\n",
       "      <th>5</th>\n",
       "      <td>5.0</td>\n",
       "      <td>3.6</td>\n",
       "      <td>1.4</td>\n",
       "      <td>0.2</td>\n",
       "      <td>setosa</td>\n",
       "    </tr>\n",
       "  </tbody>\n",
       "</table>\n",
       "</div>"
      ],
      "text/plain": [
       "   Sepal.Length  Sepal.Width  Petal.Length  Petal.Width Species\n",
       "1           5.1          3.5           1.4          0.2  setosa\n",
       "2           4.9          3.0           1.4          0.2  setosa\n",
       "3           4.7          3.2           1.3          0.2  setosa\n",
       "4           4.6          3.1           1.5          0.2  setosa\n",
       "5           5.0          3.6           1.4          0.2  setosa"
      ]
     },
     "execution_count": 53,
     "metadata": {},
     "output_type": "execute_result"
    }
   ],
   "source": [
    "data = data('iris')\n",
    "data.head(5)"
   ]
  },
  {
   "cell_type": "code",
   "execution_count": 3,
   "id": "ff2db6d0",
   "metadata": {},
   "outputs": [
    {
     "data": {
      "text/html": [
       "<div>\n",
       "<style scoped>\n",
       "    .dataframe tbody tr th:only-of-type {\n",
       "        vertical-align: middle;\n",
       "    }\n",
       "\n",
       "    .dataframe tbody tr th {\n",
       "        vertical-align: top;\n",
       "    }\n",
       "\n",
       "    .dataframe thead th {\n",
       "        text-align: right;\n",
       "    }\n",
       "</style>\n",
       "<table border=\"1\" class=\"dataframe\">\n",
       "  <thead>\n",
       "    <tr style=\"text-align: right;\">\n",
       "      <th></th>\n",
       "      <th>Sepal.Length</th>\n",
       "      <th>Sepal.Width</th>\n",
       "      <th>Petal.Length</th>\n",
       "      <th>Petal.Width</th>\n",
       "    </tr>\n",
       "  </thead>\n",
       "  <tbody>\n",
       "    <tr>\n",
       "      <th>count</th>\n",
       "      <td>150.000000</td>\n",
       "      <td>150.000000</td>\n",
       "      <td>150.000000</td>\n",
       "      <td>150.000000</td>\n",
       "    </tr>\n",
       "    <tr>\n",
       "      <th>mean</th>\n",
       "      <td>5.843333</td>\n",
       "      <td>3.057333</td>\n",
       "      <td>3.758000</td>\n",
       "      <td>1.199333</td>\n",
       "    </tr>\n",
       "    <tr>\n",
       "      <th>std</th>\n",
       "      <td>0.828066</td>\n",
       "      <td>0.435866</td>\n",
       "      <td>1.765298</td>\n",
       "      <td>0.762238</td>\n",
       "    </tr>\n",
       "    <tr>\n",
       "      <th>min</th>\n",
       "      <td>4.300000</td>\n",
       "      <td>2.000000</td>\n",
       "      <td>1.000000</td>\n",
       "      <td>0.100000</td>\n",
       "    </tr>\n",
       "    <tr>\n",
       "      <th>25%</th>\n",
       "      <td>5.100000</td>\n",
       "      <td>2.800000</td>\n",
       "      <td>1.600000</td>\n",
       "      <td>0.300000</td>\n",
       "    </tr>\n",
       "    <tr>\n",
       "      <th>50%</th>\n",
       "      <td>5.800000</td>\n",
       "      <td>3.000000</td>\n",
       "      <td>4.350000</td>\n",
       "      <td>1.300000</td>\n",
       "    </tr>\n",
       "    <tr>\n",
       "      <th>75%</th>\n",
       "      <td>6.400000</td>\n",
       "      <td>3.300000</td>\n",
       "      <td>5.100000</td>\n",
       "      <td>1.800000</td>\n",
       "    </tr>\n",
       "    <tr>\n",
       "      <th>max</th>\n",
       "      <td>7.900000</td>\n",
       "      <td>4.400000</td>\n",
       "      <td>6.900000</td>\n",
       "      <td>2.500000</td>\n",
       "    </tr>\n",
       "  </tbody>\n",
       "</table>\n",
       "</div>"
      ],
      "text/plain": [
       "       Sepal.Length  Sepal.Width  Petal.Length  Petal.Width\n",
       "count    150.000000   150.000000    150.000000   150.000000\n",
       "mean       5.843333     3.057333      3.758000     1.199333\n",
       "std        0.828066     0.435866      1.765298     0.762238\n",
       "min        4.300000     2.000000      1.000000     0.100000\n",
       "25%        5.100000     2.800000      1.600000     0.300000\n",
       "50%        5.800000     3.000000      4.350000     1.300000\n",
       "75%        6.400000     3.300000      5.100000     1.800000\n",
       "max        7.900000     4.400000      6.900000     2.500000"
      ]
     },
     "execution_count": 3,
     "metadata": {},
     "output_type": "execute_result"
    }
   ],
   "source": [
    "data.describe()"
   ]
  },
  {
   "cell_type": "code",
   "execution_count": 16,
   "id": "0e93ec55",
   "metadata": {},
   "outputs": [],
   "source": [
    "X = data.iloc[:,0:4]\n",
    "y = data.iloc[:,4]"
   ]
  },
  {
   "cell_type": "code",
   "execution_count": 38,
   "id": "40f01004",
   "metadata": {},
   "outputs": [],
   "source": [
    "def PCA(X,n):\n",
    "    X_mean = X-np.mean(X,axis=0)\n",
    "    cov_mat = np.cov(X_mean,rowvar=False)\n",
    "    eigen_values,eigen_vectors = np.linalg.eigh(cov_mat)\n",
    "    sorted_index = np.argsort(eigen_values)[::-1]\n",
    "    sorted_eigenvalues = eigen_values[sorted_index]\n",
    "    sorted_eigenvectors = eigen_vectors[:,sorted_index]\n",
    "    eigenvector_subset = sorted_eigenvectors[:,0:n]\n",
    "    X_scaled = np.dot(eigenvector_subset.transpose(),X_mean.transpose()).transpose()\n",
    "    return X_scaled"
   ]
  },
  {
   "cell_type": "code",
   "execution_count": 39,
   "id": "67e2ddd7",
   "metadata": {},
   "outputs": [
    {
     "name": "stdout",
     "output_type": "stream",
     "text": [
      "[[ 2.26470281  0.4800266 ]\n",
      " [ 2.08096115 -0.67413356]\n",
      " [ 2.36422905 -0.34190802]\n",
      " [ 2.29938422 -0.59739451]\n",
      " [ 2.38984217  0.64683538]\n",
      " [ 2.07563095  1.48917752]\n",
      " [ 2.44402884  0.0476442 ]\n",
      " [ 2.23284716  0.22314807]\n",
      " [ 2.33464048 -1.11532768]\n",
      " [ 2.18432817 -0.46901356]\n",
      " [ 2.1663101   1.04369065]\n",
      " [ 2.32613087  0.13307834]\n",
      " [ 2.2184509  -0.72867617]\n",
      " [ 2.6331007  -0.96150673]\n",
      " [ 2.1987406   1.86005711]\n",
      " [ 2.26221453  2.68628449]\n",
      " [ 2.2075877   1.48360936]\n",
      " [ 2.19034951  0.48883832]\n",
      " [ 1.898572    1.40501879]\n",
      " [ 2.34336905  1.12784938]\n",
      " [ 1.914323    0.40885571]\n",
      " [ 2.20701284  0.92412143]\n",
      " [ 2.7743447   0.45834367]\n",
      " [ 1.81866953  0.08555853]\n",
      " [ 2.22716331  0.13725446]\n",
      " [ 1.95184633 -0.62561859]\n",
      " [ 2.05115137  0.24216355]\n",
      " [ 2.16857717  0.52714953]\n",
      " [ 2.13956345  0.31321781]\n",
      " [ 2.26526149 -0.3377319 ]\n",
      " [ 2.14012214 -0.50454069]\n",
      " [ 1.83159477  0.42369507]\n",
      " [ 2.61494794  1.79357586]\n",
      " [ 2.44617739  2.15072788]\n",
      " [ 2.10997488 -0.46020184]\n",
      " [ 2.2078089  -0.2061074 ]\n",
      " [ 2.04514621  0.66155811]\n",
      " [ 2.52733191  0.59229277]\n",
      " [ 2.42963258 -0.90418004]\n",
      " [ 2.16971071  0.26887896]\n",
      " [ 2.28647514  0.44171539]\n",
      " [ 1.85812246 -2.33741516]\n",
      " [ 2.5536384  -0.47910069]\n",
      " [ 1.96444768  0.47232667]\n",
      " [ 2.13705901  1.14222926]\n",
      " [ 2.0697443  -0.71105273]\n",
      " [ 2.38473317  1.1204297 ]\n",
      " [ 2.39437631 -0.38624687]\n",
      " [ 2.22944655  0.99795976]\n",
      " [ 2.20383344  0.00921636]\n",
      " [-1.10178118  0.86297242]\n",
      " [-0.73133743  0.59461473]\n",
      " [-1.24097932  0.61629765]\n",
      " [-0.40748306 -1.75440399]\n",
      " [-1.0754747  -0.20842105]\n",
      " [-0.38868734 -0.59328364]\n",
      " [-0.74652974  0.77301931]\n",
      " [ 0.48732274 -1.85242909]\n",
      " [-0.92790164  0.03222608]\n",
      " [-0.01142619 -1.03401828]\n",
      " [ 0.11019628 -2.65407282]\n",
      " [-0.44069345 -0.06329519]\n",
      " [-0.56210831 -1.76472438]\n",
      " [-0.71956189 -0.18622461]\n",
      " [ 0.0333547  -0.43900321]\n",
      " [-0.87540719  0.50906396]\n",
      " [-0.35025167 -0.19631173]\n",
      " [-0.15881005 -0.79209574]\n",
      " [-1.22509363 -1.6222438 ]\n",
      " [-0.1649179  -1.30260923]\n",
      " [-0.73768265  0.39657156]\n",
      " [-0.47628719 -0.41732028]\n",
      " [-1.2341781  -0.93332573]\n",
      " [-0.6328582  -0.41638772]\n",
      " [-0.70266118 -0.06341182]\n",
      " [-0.87427365  0.25079339]\n",
      " [-1.25650912 -0.07725602]\n",
      " [-1.35840512  0.33131168]\n",
      " [-0.66480037 -0.22592785]\n",
      " [ 0.04025861 -1.05871855]\n",
      " [-0.13079518 -1.56227183]\n",
      " [-0.02345269 -1.57247559]\n",
      " [-0.24153827 -0.77725638]\n",
      " [-1.06109461 -0.63384324]\n",
      " [-0.22397877 -0.28777351]\n",
      " [-0.42913912  0.84558224]\n",
      " [-1.04872805  0.5220518 ]\n",
      " [-1.04453138 -1.38298872]\n",
      " [-0.06958832 -0.21950333]\n",
      " [-0.28347724 -1.32932464]\n",
      " [-0.27907778 -1.12002852]\n",
      " [-0.62456979  0.02492303]\n",
      " [-0.33653037 -0.98840402]\n",
      " [ 0.36218338 -2.01923787]\n",
      " [-0.28858624 -0.85573032]\n",
      " [-0.09136066 -0.18119213]\n",
      " [-0.22771687 -0.38492008]\n",
      " [-0.57638829 -0.1548736 ]\n",
      " [ 0.44766702 -1.54379203]\n",
      " [-0.25673059 -0.5988518 ]\n",
      " [-1.84456887  0.87042131]\n",
      " [-1.15788161 -0.69886986]\n",
      " [-2.20526679  0.56201048]\n",
      " [-1.44015066 -0.04698759]\n",
      " [-1.86781222  0.29504482]\n",
      " [-2.75187334  0.8004092 ]\n",
      " [-0.36701769 -1.56150289]\n",
      " [-2.30243944  0.42006558]\n",
      " [-2.00668647 -0.71143865]\n",
      " [-2.25977735  1.92101038]\n",
      " [-1.36417549  0.69275645]\n",
      " [-1.60267867 -0.42170045]\n",
      " [-1.8839007   0.41924965]\n",
      " [-1.2601151  -1.16226042]\n",
      " [-1.4676452  -0.44227159]\n",
      " [-1.59007732  0.67624481]\n",
      " [-1.47143146  0.25562182]\n",
      " [-2.42632899  2.55666125]\n",
      " [-3.31069558  0.01778095]\n",
      " [-1.26376667 -1.70674538]\n",
      " [-2.0377163   0.91046741]\n",
      " [-0.97798073 -0.57176432]\n",
      " [-2.89765149  0.41364106]\n",
      " [-1.33323218 -0.48181122]\n",
      " [-1.7007339   1.01392187]\n",
      " [-1.95432671  1.0077776 ]\n",
      " [-1.17510363 -0.31639447]\n",
      " [-1.02095055  0.06434603]\n",
      " [-1.78834992 -0.18736121]\n",
      " [-1.86364755  0.56229073]\n",
      " [-2.43595373  0.25928443]\n",
      " [-2.30492772  2.62632347]\n",
      " [-1.86270322 -0.17854949]\n",
      " [-1.11414774 -0.29292262]\n",
      " [-1.2024733  -0.81131527]\n",
      " [-2.79877045  0.85680333]\n",
      " [-1.57625591  1.06858111]\n",
      " [-1.3462921   0.42243061]\n",
      " [-0.92482492  0.0172231 ]\n",
      " [-1.85204505  0.67612817]\n",
      " [-2.01481043  0.61388564]\n",
      " [-1.90178409  0.68957549]\n",
      " [-1.15788161 -0.69886986]\n",
      " [-2.04055823  0.8675206 ]\n",
      " [-1.9981471   1.04916875]\n",
      " [-1.87050329  0.38696608]\n",
      " [-1.56458048 -0.89668681]\n",
      " [-1.5211705   0.26906914]\n",
      " [-1.37278779  1.01125442]\n",
      " [-0.96065603 -0.02433167]]\n"
     ]
    }
   ],
   "source": [
    "X_scaled = PCA(X,2)\n",
    "print(X_scaled)"
   ]
  },
  {
   "cell_type": "code",
   "execution_count": 50,
   "id": "b29f1fd1",
   "metadata": {},
   "outputs": [
    {
     "name": "stdout",
     "output_type": "stream",
     "text": [
      "1    setosa\n",
      "2    setosa\n",
      "3    setosa\n",
      "4    setosa\n",
      "5    setosa\n",
      "Name: Species, dtype: object\n"
     ]
    },
    {
     "data": {
      "text/html": [
       "<div>\n",
       "<style scoped>\n",
       "    .dataframe tbody tr th:only-of-type {\n",
       "        vertical-align: middle;\n",
       "    }\n",
       "\n",
       "    .dataframe tbody tr th {\n",
       "        vertical-align: top;\n",
       "    }\n",
       "\n",
       "    .dataframe thead th {\n",
       "        text-align: right;\n",
       "    }\n",
       "</style>\n",
       "<table border=\"1\" class=\"dataframe\">\n",
       "  <thead>\n",
       "    <tr style=\"text-align: right;\">\n",
       "      <th></th>\n",
       "      <th>PC1</th>\n",
       "      <th>PC2</th>\n",
       "      <th>Species</th>\n",
       "    </tr>\n",
       "  </thead>\n",
       "  <tbody>\n",
       "    <tr>\n",
       "      <th>1</th>\n",
       "      <td>2.264703</td>\n",
       "      <td>0.480027</td>\n",
       "      <td>setosa</td>\n",
       "    </tr>\n",
       "    <tr>\n",
       "      <th>2</th>\n",
       "      <td>2.080961</td>\n",
       "      <td>-0.674134</td>\n",
       "      <td>setosa</td>\n",
       "    </tr>\n",
       "    <tr>\n",
       "      <th>3</th>\n",
       "      <td>2.364229</td>\n",
       "      <td>-0.341908</td>\n",
       "      <td>setosa</td>\n",
       "    </tr>\n",
       "    <tr>\n",
       "      <th>4</th>\n",
       "      <td>2.299384</td>\n",
       "      <td>-0.597395</td>\n",
       "      <td>setosa</td>\n",
       "    </tr>\n",
       "    <tr>\n",
       "      <th>5</th>\n",
       "      <td>2.389842</td>\n",
       "      <td>0.646835</td>\n",
       "      <td>setosa</td>\n",
       "    </tr>\n",
       "  </tbody>\n",
       "</table>\n",
       "</div>"
      ],
      "text/plain": [
       "        PC1       PC2 Species\n",
       "1  2.264703  0.480027  setosa\n",
       "2  2.080961 -0.674134  setosa\n",
       "3  2.364229 -0.341908  setosa\n",
       "4  2.299384 -0.597395  setosa\n",
       "5  2.389842  0.646835  setosa"
      ]
     },
     "execution_count": 50,
     "metadata": {},
     "output_type": "execute_result"
    }
   ],
   "source": [
    "df = pd.DataFrame(X_scaled,columns = ['PC1','PC2'])\n",
    "df.index += 1\n",
    "final_df = pd.concat([df,y],axis=1)\n",
    "print(y.head(5))\n",
    "final_df.head(5)"
   ]
  },
  {
   "cell_type": "code",
   "execution_count": 51,
   "id": "c6d06d3e",
   "metadata": {},
   "outputs": [
    {
     "data": {
      "text/plain": [
       "<AxesSubplot: xlabel='PC1', ylabel='PC2'>"
      ]
     },
     "execution_count": 51,
     "metadata": {},
     "output_type": "execute_result"
    },
    {
     "data": {
      "image/png": "[encoded data removed]",
      "text/plain": [
       "<Figure size 640x480 with 1 Axes>"
      ]
     },
     "metadata": {},
     "output_type": "display_data"
    }
   ],
   "source": [
    "import seaborn as sb\n",
    "sb.scatterplot(data = final_df,x = 'PC1',y='PC2',hue = y)"
   ]
  },
  {
   "cell_type": "code",
   "execution_count": 21,
   "id": "e1ee0525",
   "metadata": {},
   "outputs": [],
   "source": [
    "from sklearn.decomposition import PCA\n",
    "from sklearn.preprocessing import StandardScaler\n",
    "\n",
    "sc = StandardScaler()\n",
    "X = sc.fit_transform(X)"
   ]
  },
  {
   "cell_type": "code",
   "execution_count": 23,
   "id": "33258be5",
   "metadata": {},
   "outputs": [
    {
     "data": {
      "text/html": [
       "<style>#sk-container-id-1 {color: black;background-color: white;}#sk-container-id-1 pre{padding: 0;}#sk-container-id-1 div.sk-toggleable {background-color: white;}#sk-container-id-1 label.sk-toggleable__label {cursor: pointer;display: block;width: 100%;margin-bottom: 0;padding: 0.3em;box-sizing: border-box;text-align: center;}#sk-container-id-1 label.sk-toggleable__label-arrow:before {content: \"▸\";float: left;margin-right: 0.25em;color: #696969;}#sk-container-id-1 label.sk-toggleable__label-arrow:hover:before {color: black;}#sk-container-id-1 div.sk-estimator:hover label.sk-toggleable__label-arrow:before {color: black;}#sk-container-id-1 div.sk-toggleable__content {max-height: 0;max-width: 0;overflow: hidden;text-align: left;background-color: #f0f8ff;}#sk-container-id-1 div.sk-toggleable__content pre {margin: 0.2em;color: black;border-radius: 0.25em;background-color: #f0f8ff;}#sk-container-id-1 input.sk-toggleable__control:checked~div.sk-toggleable__content {max-height: 200px;max-width: 100%;overflow: auto;}#sk-container-id-1 input.sk-toggleable__control:checked~label.sk-toggleable__label-arrow:before {content: \"▾\";}#sk-container-id-1 div.sk-estimator input.sk-toggleable__control:checked~label.sk-toggleable__label {background-color: #d4ebff;}#sk-container-id-1 div.sk-label input.sk-toggleable__control:checked~label.sk-toggleable__label {background-color: #d4ebff;}#sk-container-id-1 input.sk-hidden--visually {border: 0;clip: rect(1px 1px 1px 1px);clip: rect(1px, 1px, 1px, 1px);height: 1px;margin: -1px;overflow: hidden;padding: 0;position: absolute;width: 1px;}#sk-container-id-1 div.sk-estimator {font-family: monospace;background-color: #f0f8ff;border: 1px dotted black;border-radius: 0.25em;box-sizing: border-box;margin-bottom: 0.5em;}#sk-container-id-1 div.sk-estimator:hover {background-color: #d4ebff;}#sk-container-id-1 div.sk-parallel-item::after {content: \"\";width: 100%;border-bottom: 1px solid gray;flex-grow: 1;}#sk-container-id-1 div.sk-label:hover label.sk-toggleable__label {background-color: #d4ebff;}#sk-container-id-1 div.sk-serial::before {content: \"\";position: absolute;border-left: 1px solid gray;box-sizing: border-box;top: 0;bottom: 0;left: 50%;z-index: 0;}#sk-container-id-1 div.sk-serial {display: flex;flex-direction: column;align-items: center;background-color: white;padding-right: 0.2em;padding-left: 0.2em;position: relative;}#sk-container-id-1 div.sk-item {position: relative;z-index: 1;}#sk-container-id-1 div.sk-parallel {display: flex;align-items: stretch;justify-content: center;background-color: white;position: relative;}#sk-container-id-1 div.sk-item::before, #sk-container-id-1 div.sk-parallel-item::before {content: \"\";position: absolute;border-left: 1px solid gray;box-sizing: border-box;top: 0;bottom: 0;left: 50%;z-index: -1;}#sk-container-id-1 div.sk-parallel-item {display: flex;flex-direction: column;z-index: 1;position: relative;background-color: white;}#sk-container-id-1 div.sk-parallel-item:first-child::after {align-self: flex-end;width: 50%;}#sk-container-id-1 div.sk-parallel-item:last-child::after {align-self: flex-start;width: 50%;}#sk-container-id-1 div.sk-parallel-item:only-child::after {width: 0;}#sk-container-id-1 div.sk-dashed-wrapped {border: 1px dashed gray;margin: 0 0.4em 0.5em 0.4em;box-sizing: border-box;padding-bottom: 0.4em;background-color: white;}#sk-container-id-1 div.sk-label label {font-family: monospace;font-weight: bold;display: inline-block;line-height: 1.2em;}#sk-container-id-1 div.sk-label-container {text-align: center;}#sk-container-id-1 div.sk-container {/* jupyter's `normalize.less` sets `[hidden] { display: none; }` but bootstrap.min.css set `[hidden] { display: none !important; }` so we also need the `!important` here to be able to override the default hidden behavior on the sphinx rendered scikit-learn.org. See: https://github.com/scikit-learn/scikit-learn/issues/21755 */display: inline-block !important;position: relative;}#sk-container-id-1 div.sk-text-repr-fallback {display: none;}</style><div id=\"sk-container-id-1\" class=\"sk-top-container\"><div class=\"sk-text-repr-fallback\"><pre>PCA(n_components=2)</pre><b>In a Jupyter environment, please rerun this cell to show the HTML representation or trust the notebook. <br />On GitHub, the HTML representation is unable to render, please try loading this page with nbviewer.org.</b></div><div class=\"sk-container\" hidden><div class=\"sk-item\"><div class=\"sk-estimator sk-toggleable\"><input class=\"sk-toggleable__control sk-hidden--visually\" id=\"sk-estimator-id-1\" type=\"checkbox\" checked><label for=\"sk-estimator-id-1\" class=\"sk-toggleable__label sk-toggleable__label-arrow\">PCA</label><div class=\"sk-toggleable__content\"><pre>PCA(n_components=2)</pre></div></div></div></div></div>"
      ],
      "text/plain": [
       "PCA(n_components=2)"
      ]
     },
     "execution_count": 23,
     "metadata": {},
     "output_type": "execute_result"
    }
   ],
   "source": [
    "pca = PCA(n_components=2)\n",
    "pca.fit(X)"
   ]
  },
  {
   "cell_type": "code",
   "execution_count": 25,
   "id": "8017c8d3",
   "metadata": {},
   "outputs": [
    {
     "name": "stdout",
     "output_type": "stream",
     "text": [
      "[2.93808505 0.9201649 ]\n",
      "[[ 0.52106591 -0.26934744  0.5804131   0.56485654]\n",
      " [ 0.37741762  0.92329566  0.02449161  0.06694199]]\n"
     ]
    }
   ],
   "source": [
    "print(pca.explained_variance_)\n",
    "print(pca.components_)"
   ]
  },
  {
   "cell_type": "code",
   "execution_count": 27,
   "id": "8d3af3a6",
   "metadata": {},
   "outputs": [
    {
     "data": {
      "image/png": "[encoded data removed]",
      "text/plain": [
       "<Figure size 640x480 with 1 Axes>"
      ]
     },
     "metadata": {},
     "output_type": "display_data"
    }
   ],
   "source": [
    "import matplotlib.pyplot as plt\n",
    "plt.plot(pca.explained_variance_, marker='o')\n",
    "plt.show()"
   ]
  },
  {
   "cell_type": "code",
   "execution_count": null,
   "id": "2ed51761",
   "metadata": {},
   "outputs": [],
   "source": []
  }
 ],
 "metadata": {
  "kernelspec": {
   "display_name": "Python 3 (ipykernel)",
   "language": "python",
   "name": "python3"
  },
  "language_info": {
   "codemirror_mode": {
    "name": "ipython",
    "version": 3
   },
   "file_extension": ".py",
   "mimetype": "text/x-python",
   "name": "python",
   "nbconvert_exporter": "python",
   "pygments_lexer": "ipython3",
   "version": "3.10.7"
  }
 },
 "nbformat": 4,
 "nbformat_minor": 5
}
