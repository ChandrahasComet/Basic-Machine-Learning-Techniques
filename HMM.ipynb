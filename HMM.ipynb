{
 "cells": [
  {
   "cell_type": "code",
   "execution_count": 1,
   "id": "3bce1abd",
   "metadata": {},
   "outputs": [],
   "source": [
    "from hmmlearn import hmm\n",
    "import numpy as np\n",
    "import pandas as pd\n",
    "import matplotlib.pyplot as plt\n",
    "from hmmlearn import hmm"
   ]
  },
  {
   "cell_type": "code",
   "execution_count": 2,
   "id": "0c1be58e",
   "metadata": {},
   "outputs": [],
   "source": [
    "base_dir = \"https://github.com/natsunoyuki/Data_Science/blob/master/gold/gold/gold_price_usd.csv?raw=True\"\n",
    "\n",
    "data = pd.read_csv(base_dir)\n",
    "\n",
    "# Convert the datetime from str to datetime object.\n",
    "data[\"datetime\"] = pd.to_datetime(data[\"datetime\"])\n",
    "\n",
    "# Determine the daily change in gold price.\n",
    "data[\"gold_price_change\"] = data[\"gold_price_usd\"].diff()"
   ]
  },
  {
   "cell_type": "code",
   "execution_count": 4,
   "id": "f1c90daa",
   "metadata": {},
   "outputs": [],
   "source": [
    "# Restrict the data to later than 2008 Jan 01.\n",
    "data = data[data[\"datetime\"] >= pd.to_datetime(\"2008-01-01\")]\n",
    "X = data[[\"gold_price_change\"]].values\n",
    "\n",
    "model = hmm.GaussianHMM(n_components = 3, covariance_type = \"diag\", n_iter = 50, random_state = 42)\n",
    "model.fit(X)\n",
    "\n",
    "Z = model.predict(X)\n",
    "states = pd.unique(Z)"
   ]
  },
  {
   "cell_type": "code",
   "execution_count": 5,
   "id": "d3bc9ea3",
   "metadata": {},
   "outputs": [
    {
     "name": "stdout",
     "output_type": "stream",
     "text": [
      "Unique states:\n",
      "[1 0 2]\n"
     ]
    }
   ],
   "source": [
    "print(\"Unique states:\")\n",
    "print(states)\n"
   ]
  },
  {
   "cell_type": "code",
   "execution_count": 6,
   "id": "22cc3002",
   "metadata": {},
   "outputs": [
    {
     "name": "stdout",
     "output_type": "stream",
     "text": [
      "\n",
      "Start probabilities:\n",
      "[9.00876474e-03 9.90991235e-01 1.90652535e-52]\n"
     ]
    }
   ],
   "source": [
    "print(\"\\nStart probabilities:\")\n",
    "print(model.startprob_)"
   ]
  },
  {
   "cell_type": "code",
   "execution_count": 7,
   "id": "0d977797",
   "metadata": {},
   "outputs": [
    {
     "name": "stdout",
     "output_type": "stream",
     "text": [
      "[[4.71987506e-02 9.52205396e-01 5.95853639e-04]\n",
      " [8.12868067e-01 1.35345228e-01 5.17867054e-02]\n",
      " [3.95757463e-02 4.27802116e-02 9.17644042e-01]]\n"
     ]
    }
   ],
   "source": [
    "print(model.transmat_)"
   ]
  },
  {
   "cell_type": "code",
   "execution_count": 8,
   "id": "87e54945",
   "metadata": {},
   "outputs": [
    {
     "name": "stdout",
     "output_type": "stream",
     "text": [
      "[[0.27897404]\n",
      " [0.20658205]\n",
      " [0.30620104]]\n"
     ]
    }
   ],
   "source": [
    "print(model.means_)"
   ]
  },
  {
   "cell_type": "code",
   "execution_count": 9,
   "id": "bda83c1d",
   "metadata": {},
   "outputs": [
    {
     "name": "stdout",
     "output_type": "stream",
     "text": [
      "[[[ 28.11246244]]\n",
      "\n",
      " [[ 77.18151421]]\n",
      "\n",
      " [[324.43713708]]]\n"
     ]
    }
   ],
   "source": [
    "print(model.covars_)"
   ]
  },
  {
   "cell_type": "code",
   "execution_count": null,
   "id": "d1a3ede2",
   "metadata": {},
   "outputs": [],
   "source": []
  }
 ],
 "metadata": {
  "kernelspec": {
   "display_name": "Python 3 (ipykernel)",
   "language": "python",
   "name": "python3"
  },
  "language_info": {
   "codemirror_mode": {
    "name": "ipython",
    "version": 3
   },
   "file_extension": ".py",
   "mimetype": "text/x-python",
   "name": "python",
   "nbconvert_exporter": "python",
   "pygments_lexer": "ipython3",
   "version": "3.10.7"
  }
 },
 "nbformat": 4,
 "nbformat_minor": 5
}
