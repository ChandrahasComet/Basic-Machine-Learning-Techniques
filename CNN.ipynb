{
 "cells": [
  {
   "cell_type": "code",
   "execution_count": 2,
   "id": "fb59ce93",
   "metadata": {},
   "outputs": [],
   "source": [
    "from tensorflow.keras.datasets import mnist\n",
    "from tensorflow.keras.models import Sequential\n",
    "from tensorflow.keras.layers import Conv2D,MaxPool2D,Flatten,Dropout,Dense"
   ]
  },
  {
   "cell_type": "code",
   "execution_count": 3,
   "id": "60a01d68",
   "metadata": {},
   "outputs": [
    {
     "name": "stdout",
     "output_type": "stream",
     "text": [
      "Downloading data from https://storage.googleapis.com/tensorflow/tf-keras-datasets/mnist.npz\n",
      "11490434/11490434 [==============================] - 20s 2us/step\n",
      "(60000, 28, 28, 1)\n",
      "(10000, 28, 28, 1)\n"
     ]
    }
   ],
   "source": [
    "(X_train,y_train),(X_test,y_test)=mnist.load_data()\n",
    "#reshaping the data\n",
    "X_train=X_train.reshape((X_train.shape[0],X_train.shape[1],X_train.shape[2],1))\n",
    "X_test=X_test.reshape((X_test.shape[0],X_test.shape[1],X_test.shape[2],1))\n",
    "#checking the shape afer reshaping\n",
    "print(X_train.shape)\n",
    "print(X_test.shape)"
   ]
  },
  {
   "cell_type": "code",
   "execution_count": 4,
   "id": "6e79d4e5",
   "metadata": {},
   "outputs": [],
   "source": [
    "X_train=X_train/255\n",
    "X_test=X_test/255"
   ]
  },
  {
   "cell_type": "code",
   "execution_count": null,
   "id": "05c46543",
   "metadata": {},
   "outputs": [
    {
     "name": "stdout",
     "output_type": "stream",
     "text": [
      "Epoch 1/10\n",
      "1875/1875 [==============================] - 26s 13ms/step - loss: 0.1578 - accuracy: 0.9524\n",
      "Epoch 2/10\n",
      "1875/1875 [==============================] - 22s 12ms/step - loss: 0.0561 - accuracy: 0.9834\n",
      "Epoch 3/10\n",
      "1875/1875 [==============================] - 23s 12ms/step - loss: 0.0359 - accuracy: 0.9887\n",
      "Epoch 4/10\n",
      "1875/1875 [==============================] - 22s 12ms/step - loss: 0.0243 - accuracy: 0.9924\n",
      "Epoch 5/10\n",
      "1875/1875 [==============================] - 22s 12ms/step - loss: 0.0169 - accuracy: 0.9947\n",
      "Epoch 6/10\n",
      "1875/1875 [==============================] - 22s 12ms/step - loss: 0.0123 - accuracy: 0.9960\n",
      "Epoch 7/10\n",
      "1875/1875 [==============================] - 23s 12ms/step - loss: 0.0093 - accuracy: 0.9969\n",
      "Epoch 8/10\n",
      "1875/1875 [==============================] - 22s 12ms/step - loss: 0.0063 - accuracy: 0.9979\n",
      "Epoch 9/10\n",
      "1875/1875 [==============================] - 23s 12ms/step - loss: 0.0061 - accuracy: 0.9980\n",
      "Epoch 10/10\n",
      " 420/1875 [=====>........................] - ETA: 16s - loss: 0.0039 - accuracy: 0.9984"
     ]
    }
   ],
   "source": [
    "model=Sequential()\n",
    "#adding the convolutional layer\n",
    "model.add((Conv2D(32,(3,3),activation='relu',input_shape=(28,28,1))))\n",
    "#adding pooling layer\n",
    "model.add(MaxPool2D(2,2))\n",
    "#adding fully connected layer\n",
    "model.add(Flatten())\n",
    "model.add(Dense(100,activation='relu'))\n",
    "#adding outputlayer\n",
    "model.add(Dense(10,activation='softmax'))\n",
    "#compiling the model\n",
    "model.compile(loss='sparse_categorical_crossentropy',optimizer='adam',metrics=['accuracy'])\n",
    "#fitting the model\n",
    "model.fit(X_train,y_train,epochs=10)"
   ]
  },
  {
   "cell_type": "code",
   "execution_count": null,
   "id": "d6005bf0",
   "metadata": {},
   "outputs": [],
   "source": []
  }
 ],
 "metadata": {
  "kernelspec": {
   "display_name": "Python 3 (ipykernel)",
   "language": "python",
   "name": "python3"
  },
  "language_info": {
   "codemirror_mode": {
    "name": "ipython",
    "version": 3
   },
   "file_extension": ".py",
   "mimetype": "text/x-python",
   "name": "python",
   "nbconvert_exporter": "python",
   "pygments_lexer": "ipython3",
   "version": "3.10.7"
  }
 },
 "nbformat": 4,
 "nbformat_minor": 5
}
